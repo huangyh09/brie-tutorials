{
 "cells": [
  {
   "cell_type": "markdown",
   "metadata": {},
   "source": [
    "# Combining scNT-seq data"
   ]
  },
  {
   "cell_type": "markdown",
   "metadata": {},
   "source": [
    "Thank the authors of the scNT-seq paper ([X. Qiu, P. Hu, et al, 2020](https://www.nature.com/articles/s41592-020-0935-4)) for making the analysis scripts and processed data publicly avaialble, which saves a lot of time for using this cool data set and software to repeat the analysis and validate methodology.\n",
    "\n",
    "All data sets are found from the author-provided repo: https://github.com/wulabupenn/scNT-seq"
   ]
  },
  {
   "cell_type": "markdown",
   "metadata": {},
   "source": [
    "**Data are linked to here**:\n",
    "* Links on Processed data (neuron_splicing_4_11.h5ad, Neu_one_shot.h5ad, 0408_grp_info.txt): https://github.com/wulabupenn/scNT-seq/blob/master/notebook_for_figures/neuron_revision_figures_n_s_velocity.ipynb\n",
    "* Links for UMAP and selected cells: \n",
    "  [Fig3b.rds](https://drive.google.com/drive/folders/1CTdrLUpzye_nlZXWJH9ggS7BRzM-VSqQ?usp=sharing)\n",
    "  on Google Drive. "
   ]
  },
  {
   "cell_type": "markdown",
   "metadata": {},
   "source": [
    "**Dumping the data with R**\n",
    "\n",
    "```\n",
    "dat = readRDS('Fig3b.rds')\n",
    "write.table(dat, 'Fig3b.tsv', sep='\\t', quote=FALSE, row.names=FALSE)\n",
    "```"
   ]
  },
  {
   "cell_type": "markdown",
   "metadata": {},
   "source": [
    "## Annotated data - scNT"
   ]
  },
  {
   "cell_type": "code",
   "execution_count": 1,
   "metadata": {},
   "outputs": [],
   "source": [
    "import numpy as np\n",
    "import scanpy as sc"
   ]
  },
  {
   "cell_type": "code",
   "execution_count": 2,
   "metadata": {},
   "outputs": [],
   "source": [
    "dat_dir = '/storage/yhhuang/research/rnaVelo/scNT/'"
   ]
  },
  {
   "cell_type": "code",
   "execution_count": 3,
   "metadata": {},
   "outputs": [],
   "source": [
    "adata = sc.read(dat_dir + '/neuron_splicing_4_11.h5ad')"
   ]
  },
  {
   "cell_type": "code",
   "execution_count": 4,
   "metadata": {},
   "outputs": [
    {
     "data": {
      "text/plain": [
       "3132"
      ]
     },
     "execution_count": 4,
     "metadata": {},
     "output_type": "execute_result"
    }
   ],
   "source": [
    "np.sum((adata.X > 0).sum(1) > 2000)"
   ]
  },
  {
   "cell_type": "markdown",
   "metadata": {},
   "source": [
    "### Get total RNAs, add UMAP, and keep qc cells"
   ]
  },
  {
   "cell_type": "code",
   "execution_count": 5,
   "metadata": {},
   "outputs": [
    {
     "data": {
      "text/plain": [
       "(3067, 7)"
      ]
     },
     "execution_count": 5,
     "metadata": {},
     "output_type": "execute_result"
    }
   ],
   "source": [
    "obs_dat = np.genfromtxt(dat_dir + '/Fig3b.tsv', delimiter='\\t', dtype='str')\n",
    "obs_dat.shape"
   ]
  },
  {
   "cell_type": "code",
   "execution_count": 6,
   "metadata": {},
   "outputs": [
    {
     "data": {
      "text/plain": [
       "array([['cell', 'umap_0', 'umap_1', 'time', 'cluster', 'early', 'late'],\n",
       "       ['Neu-4sU-only-run1n2_CAACATGACCGC', '2.9563963', '-4.174852',\n",
       "        '0', 'Ex', '0.132488875641741', '0.403597919486812'],\n",
       "       ['Neu-4sU-only-run1n2_TGGACGCTGCAA', '2.2422173', '-3.8909454',\n",
       "        '0', 'Ex', '0.202600940514841', '0.430327636205354']],\n",
       "      dtype='<U38')"
      ]
     },
     "execution_count": 6,
     "metadata": {},
     "output_type": "execute_result"
    }
   ],
   "source": [
    "obs_dat[:3, :]"
   ]
  },
  {
   "cell_type": "markdown",
   "metadata": {},
   "source": [
    "#### match"
   ]
  },
  {
   "cell_type": "code",
   "execution_count": 7,
   "metadata": {},
   "outputs": [],
   "source": [
    "import hilearn\n",
    "mm = hilearn.match(obs_dat[1:, 0], adata.obs_names)"
   ]
  },
  {
   "cell_type": "code",
   "execution_count": 8,
   "metadata": {},
   "outputs": [
    {
     "data": {
      "text/plain": [
       "1.0"
      ]
     },
     "execution_count": 8,
     "metadata": {},
     "output_type": "execute_result"
    }
   ],
   "source": [
    "adata_lite = adata[mm, :]\n",
    "np.mean(adata_lite.obs.index == obs_dat[1:, 0])"
   ]
  },
  {
   "cell_type": "code",
   "execution_count": 9,
   "metadata": {},
   "outputs": [],
   "source": [
    "adata_lite.obsm['X_umap'] = obs_dat[1:, 1:3].astype(np.float32)\n",
    "adata_lite.obs['time'] = obs_dat[1:, 3].astype(np.int32)\n",
    "adata_lite.obs['early'] = obs_dat[1:, 5].astype(np.float32)\n",
    "adata_lite.obs['late'] = obs_dat[1:, 6].astype(np.float32)"
   ]
  },
  {
   "cell_type": "code",
   "execution_count": 10,
   "metadata": {},
   "outputs": [
    {
     "data": {
      "text/plain": [
       "AnnData object with n_obs × n_vars = 3066 × 44021\n",
       "    obs: 'cellname', 'time', 'early', 'late'\n",
       "    var: 'gene_short_name'\n",
       "    obsm: 'X_umap'\n",
       "    layers: 'spliced', 'unspliced'"
      ]
     },
     "execution_count": 10,
     "metadata": {},
     "output_type": "execute_result"
    }
   ],
   "source": [
    "adata_lite"
   ]
  },
  {
   "cell_type": "markdown",
   "metadata": {},
   "source": [
    "#### save"
   ]
  },
  {
   "cell_type": "code",
   "execution_count": 11,
   "metadata": {},
   "outputs": [],
   "source": [
    "adata_lite.write(dat_dir + \"/neuron_splicing_totalRNA.h5ad\")"
   ]
  },
  {
   "cell_type": "code",
   "execution_count": 12,
   "metadata": {},
   "outputs": [],
   "source": [
    "df = adata_lite.obs['time']\n",
    "df.to_csv(dat_dir + '/neuron_splicing_time.tsv', sep='\\t', index_label='cellID')"
   ]
  },
  {
   "cell_type": "markdown",
   "metadata": {},
   "source": [
    "### Replacement unspliced with nascent RNAs"
   ]
  },
  {
   "cell_type": "code",
   "execution_count": 13,
   "metadata": {},
   "outputs": [],
   "source": [
    "Neu = sc.read(dat_dir + '/Neu_one_shot.h5ad') # Neu"
   ]
  },
  {
   "cell_type": "code",
   "execution_count": 14,
   "metadata": {},
   "outputs": [],
   "source": [
    "intersect_gene = list(set(adata_lite.var_names).intersection(Neu.var_names))\n",
    "# intersect_cells = list(set(adata_lite.obs_names).intersection(Neu.obs_names))"
   ]
  },
  {
   "cell_type": "code",
   "execution_count": 15,
   "metadata": {},
   "outputs": [],
   "source": [
    "adata_comb = adata_lite[:, intersect_gene]\n",
    "Neu_matched = Neu[adata_lite.obs_names, :][:, intersect_gene]"
   ]
  },
  {
   "cell_type": "code",
   "execution_count": 16,
   "metadata": {},
   "outputs": [
    {
     "data": {
      "text/plain": [
       "1.0"
      ]
     },
     "execution_count": 16,
     "metadata": {},
     "output_type": "execute_result"
    }
   ],
   "source": [
    "np.mean(Neu_matched.obs.index == adata_comb.obs.index)"
   ]
  },
  {
   "cell_type": "code",
   "execution_count": 17,
   "metadata": {},
   "outputs": [
    {
     "name": "stderr",
     "output_type": "stream",
     "text": [
      "/home/yuanhua/.conda/envs/TFProb/lib/python3.7/site-packages/scipy/sparse/_index.py:118: SparseEfficiencyWarning: Changing the sparsity structure of a csr_matrix is expensive. lil_matrix is more efficient.\n",
      "  self._set_arrayXarray_sparse(i, j, x)\n"
     ]
    }
   ],
   "source": [
    "adata_comb.X = Neu_matched.X.copy()\n",
    "adata_comb.layers['unspliced'] = Neu_matched.layers['new'].copy()"
   ]
  },
  {
   "cell_type": "code",
   "execution_count": 18,
   "metadata": {},
   "outputs": [],
   "source": [
    "adata_comb.write(dat_dir + \"/neuron_splicing_nascent.h5ad\")"
   ]
  },
  {
   "cell_type": "code",
   "execution_count": null,
   "metadata": {},
   "outputs": [],
   "source": []
  }
 ],
 "metadata": {
  "kernelspec": {
   "display_name": "TFProb",
   "language": "python",
   "name": "tfprob"
  },
  "language_info": {
   "codemirror_mode": {
    "name": "ipython",
    "version": 3
   },
   "file_extension": ".py",
   "mimetype": "text/x-python",
   "name": "python",
   "nbconvert_exporter": "python",
   "pygments_lexer": "ipython3",
   "version": "3.7.6"
  }
 },
 "nbformat": 4,
 "nbformat_minor": 4
}
